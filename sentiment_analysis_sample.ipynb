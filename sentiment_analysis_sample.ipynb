{
  "nbformat": 4,
  "nbformat_minor": 0,
  "metadata": {
    "colab": {
      "name": "sentiment_analysis_sample.ipynb",
      "provenance": [],
      "collapsed_sections": [],
      "toc_visible": true,
      "authorship_tag": "ABX9TyMO5KL/0QrwAFOBsJjDRBEZ",
      "include_colab_link": true
    },
    "kernelspec": {
      "name": "python3",
      "display_name": "Python 3"
    }
  },
  "cells": [
    {
      "cell_type": "markdown",
      "metadata": {
        "id": "view-in-github",
        "colab_type": "text"
      },
      "source": [
        "<a href=\"https://colab.research.google.com/github/bryanfree66/AIPND_image_classification/blob/master/sentiment_analysis_sample.ipynb\" target=\"_parent\"><img src=\"https://colab.research.google.com/assets/colab-badge.svg\" alt=\"Open In Colab\"/></a>"
      ]
    },
    {
      "cell_type": "markdown",
      "metadata": {
        "id": "2km3oZQn3_xL",
        "colab_type": "text"
      },
      "source": [
        "# Sentiment Identification Work Sample\n",
        "## Data Description\n",
        "\n",
        "\n",
        "1.   Number of records: 20000\n",
        "2.   Text data\n",
        "3.   Two string data type values per record\n",
        "4.   Tagged for Sentiment (Positive, Negative, Neutral)\n",
        "5.   The training data includes documents from a wide variety of sources\n",
        "\n",
        "[Dataset link](http://archive.ics.uci.edu/ml/datasets/Roman+Urdu+Data+Set)\n",
        "\n",
        "## Goal\n",
        "* Train a sentiment classifier on the corpus of the dataset \n",
        "* Maximize accuracy of the classifier\n",
        "* I want to be more sensitive to identifying negative\n",
        "\n",
        "## Plan of Work\n",
        "1. Load and clean up the data\n",
        "2. Do some exploratory data analysis\n",
        "3. Filter out Roman Urdu stop words\n",
        "4. Evaluate creating additional features\n",
        "5. Vectorize reviews\n",
        "6. Train and evaluate model(s)\n",
        "7. Select best model based on accuracy"
      ]
    },
    {
      "cell_type": "code",
      "metadata": {
        "id": "QGUWnDVGYkyL",
        "colab_type": "code",
        "colab": {
          "base_uri": "https://localhost:8080/",
          "height": 71
        },
        "outputId": "b2c79f92-5a76-4fe6-8b97-456a5acdc331"
      },
      "source": [
        "import pandas as pd\n",
        "import numpy as np\n",
        "import matplotlib.pyplot as plt\n",
        "import seaborn as sns\n",
        "import warnings\n",
        "from google.colab import drive\n",
        "from sklearn.feature_extraction.text import TfidfVectorizer, CountVectorizer\n",
        "\n",
        "warnings.filterwarnings(\"ignore\")\n",
        "sns.set(style=\"darkgrid\")\n",
        "# drive.mount('/content/drive')\n",
        "train_split = .8"
      ],
      "execution_count": 1,
      "outputs": [
        {
          "output_type": "stream",
          "text": [
            "/usr/local/lib/python3.6/dist-packages/statsmodels/tools/_testing.py:19: FutureWarning: pandas.util.testing is deprecated. Use the functions in the public API at pandas.testing instead.\n",
            "  import pandas.util.testing as tm\n"
          ],
          "name": "stderr"
        }
      ]
    },
    {
      "cell_type": "markdown",
      "metadata": {
        "id": "yM7kV-HMEOEA",
        "colab_type": "text"
      },
      "source": [
        "### Load the Data"
      ]
    },
    {
      "cell_type": "code",
      "metadata": {
        "id": "V0mMybwQ3WNb",
        "colab_type": "code",
        "outputId": "6772231e-1b2f-4729-c38b-41eb69837275",
        "colab": {
          "base_uri": "https://localhost:8080/",
          "height": 34
        }
      },
      "source": [
        "# Use session storage\n",
        "original_data = pd.read_csv('/content/data/roman_urdu/Roman Urdu DataSet.csv',\n",
        "                            encoding='utf8')\n",
        "\n",
        "# Use Google Drive\n",
        "# original_data = pd.read_csv('/content/drive/My Drive/working_data/roman_urdu/Roman Urdu DataSet.csv',\n",
        "#                            encoding='utf8')\n",
        "\n",
        "# Save a clean copy for later\n",
        "clean_copy = original_data.copy()  \n",
        "print('Original data shape: {}'.format(original_data.shape))"
      ],
      "execution_count": 2,
      "outputs": [
        {
          "output_type": "stream",
          "text": [
            "Original data shape: (20228, 3)\n"
          ],
          "name": "stdout"
        }
      ]
    },
    {
      "cell_type": "markdown",
      "metadata": {
        "id": "EIhs3UkY7Hcw",
        "colab_type": "text"
      },
      "source": [
        "I can see right away the dataset is not the shape I expected. The data description has two columns, but we seem to be picking up an extra column from the CSV."
      ]
    },
    {
      "cell_type": "markdown",
      "metadata": {
        "id": "ixSd6EWwEXod",
        "colab_type": "text"
      },
      "source": [
        "### Initial Cleaning"
      ]
    },
    {
      "cell_type": "code",
      "metadata": {
        "id": "MlcrfdKA530Y",
        "colab_type": "code",
        "outputId": "ae098db6-9da6-415e-f769-a7b898bab4c5",
        "colab": {
          "base_uri": "https://localhost:8080/",
          "height": 221
        }
      },
      "source": [
        "original_data.head()"
      ],
      "execution_count": 3,
      "outputs": [
        {
          "output_type": "execute_result",
          "data": {
            "text/html": [
              "<div>\n",
              "<style scoped>\n",
              "    .dataframe tbody tr th:only-of-type {\n",
              "        vertical-align: middle;\n",
              "    }\n",
              "\n",
              "    .dataframe tbody tr th {\n",
              "        vertical-align: top;\n",
              "    }\n",
              "\n",
              "    .dataframe thead th {\n",
              "        text-align: right;\n",
              "    }\n",
              "</style>\n",
              "<table border=\"1\" class=\"dataframe\">\n",
              "  <thead>\n",
              "    <tr style=\"text-align: right;\">\n",
              "      <th></th>\n",
              "      <th>Sai kha ya her kisi kay bus ki bat nhi hai lakin main ki hal kal bi Aj aur aj bi sirf Aus say bus</th>\n",
              "      <th>Positive</th>\n",
              "      <th>Unnamed: 2</th>\n",
              "    </tr>\n",
              "  </thead>\n",
              "  <tbody>\n",
              "    <tr>\n",
              "      <th>0</th>\n",
              "      <td>sahi bt h</td>\n",
              "      <td>Positive</td>\n",
              "      <td>NaN</td>\n",
              "    </tr>\n",
              "    <tr>\n",
              "      <th>1</th>\n",
              "      <td>Kya bt hai,</td>\n",
              "      <td>Positive</td>\n",
              "      <td>NaN</td>\n",
              "    </tr>\n",
              "    <tr>\n",
              "      <th>2</th>\n",
              "      <td>Wah je wah</td>\n",
              "      <td>Positive</td>\n",
              "      <td>NaN</td>\n",
              "    </tr>\n",
              "    <tr>\n",
              "      <th>3</th>\n",
              "      <td>Are wha kaya bat hai</td>\n",
              "      <td>Positive</td>\n",
              "      <td>NaN</td>\n",
              "    </tr>\n",
              "    <tr>\n",
              "      <th>4</th>\n",
              "      <td>Wah kya baat likhi</td>\n",
              "      <td>Positive</td>\n",
              "      <td>NaN</td>\n",
              "    </tr>\n",
              "  </tbody>\n",
              "</table>\n",
              "</div>"
            ],
            "text/plain": [
              "  Sai kha ya her kisi kay bus ki bat nhi hai lakin main ki hal kal bi Aj aur aj bi sirf Aus say bus  ... Unnamed: 2\n",
              "0                                          sahi bt h                                                 ...        NaN\n",
              "1                                        Kya bt hai,                                                 ...        NaN\n",
              "2                                         Wah je wah                                                 ...        NaN\n",
              "3                               Are wha kaya bat hai                                                 ...        NaN\n",
              "4                                 Wah kya baat likhi                                                 ...        NaN\n",
              "\n",
              "[5 rows x 3 columns]"
            ]
          },
          "metadata": {
            "tags": []
          },
          "execution_count": 3
        }
      ]
    },
    {
      "cell_type": "markdown",
      "metadata": {
        "id": "gesF1OKB7csf",
        "colab_type": "text"
      },
      "source": [
        "It looks like an extra I wasn`t expecting. I´m also going to rename the first columns. I will set up a data pipeline later to automate all of the changes. \n",
        "\n",
        "I´ll start by renaming the columns for convenience."
      ]
    },
    {
      "cell_type": "code",
      "metadata": {
        "id": "WO85PB2q9g0w",
        "colab_type": "code",
        "colab": {}
      },
      "source": [
        "original_data.columns = ['review','target','unexpected']\n",
        "phrase_col = 'review'\n",
        "target_col = 'target'"
      ],
      "execution_count": 0,
      "outputs": []
    },
    {
      "cell_type": "code",
      "metadata": {
        "id": "1Z9R4TW57iaO",
        "colab_type": "code",
        "outputId": "731dcd11-03cc-4cca-d5cd-731b8782eb73",
        "colab": {
          "base_uri": "https://localhost:8080/",
          "height": 204
        }
      },
      "source": [
        "original_data.head()"
      ],
      "execution_count": 5,
      "outputs": [
        {
          "output_type": "execute_result",
          "data": {
            "text/html": [
              "<div>\n",
              "<style scoped>\n",
              "    .dataframe tbody tr th:only-of-type {\n",
              "        vertical-align: middle;\n",
              "    }\n",
              "\n",
              "    .dataframe tbody tr th {\n",
              "        vertical-align: top;\n",
              "    }\n",
              "\n",
              "    .dataframe thead th {\n",
              "        text-align: right;\n",
              "    }\n",
              "</style>\n",
              "<table border=\"1\" class=\"dataframe\">\n",
              "  <thead>\n",
              "    <tr style=\"text-align: right;\">\n",
              "      <th></th>\n",
              "      <th>review</th>\n",
              "      <th>target</th>\n",
              "      <th>unexpected</th>\n",
              "    </tr>\n",
              "  </thead>\n",
              "  <tbody>\n",
              "    <tr>\n",
              "      <th>0</th>\n",
              "      <td>sahi bt h</td>\n",
              "      <td>Positive</td>\n",
              "      <td>NaN</td>\n",
              "    </tr>\n",
              "    <tr>\n",
              "      <th>1</th>\n",
              "      <td>Kya bt hai,</td>\n",
              "      <td>Positive</td>\n",
              "      <td>NaN</td>\n",
              "    </tr>\n",
              "    <tr>\n",
              "      <th>2</th>\n",
              "      <td>Wah je wah</td>\n",
              "      <td>Positive</td>\n",
              "      <td>NaN</td>\n",
              "    </tr>\n",
              "    <tr>\n",
              "      <th>3</th>\n",
              "      <td>Are wha kaya bat hai</td>\n",
              "      <td>Positive</td>\n",
              "      <td>NaN</td>\n",
              "    </tr>\n",
              "    <tr>\n",
              "      <th>4</th>\n",
              "      <td>Wah kya baat likhi</td>\n",
              "      <td>Positive</td>\n",
              "      <td>NaN</td>\n",
              "    </tr>\n",
              "  </tbody>\n",
              "</table>\n",
              "</div>"
            ],
            "text/plain": [
              "                 review    target unexpected\n",
              "0             sahi bt h  Positive        NaN\n",
              "1           Kya bt hai,  Positive        NaN\n",
              "2            Wah je wah  Positive        NaN\n",
              "3  Are wha kaya bat hai  Positive        NaN\n",
              "4    Wah kya baat likhi  Positive        NaN"
            ]
          },
          "metadata": {
            "tags": []
          },
          "execution_count": 5
        }
      ]
    },
    {
      "cell_type": "code",
      "metadata": {
        "id": "6orv8-zOdi78",
        "colab_type": "code",
        "outputId": "d17e0a75-43a1-4520-c302-7cd04b330b38",
        "colab": {
          "base_uri": "https://localhost:8080/",
          "height": 173
        }
      },
      "source": [
        "original_data.describe()"
      ],
      "execution_count": 6,
      "outputs": [
        {
          "output_type": "execute_result",
          "data": {
            "text/html": [
              "<div>\n",
              "<style scoped>\n",
              "    .dataframe tbody tr th:only-of-type {\n",
              "        vertical-align: middle;\n",
              "    }\n",
              "\n",
              "    .dataframe tbody tr th {\n",
              "        vertical-align: top;\n",
              "    }\n",
              "\n",
              "    .dataframe thead th {\n",
              "        text-align: right;\n",
              "    }\n",
              "</style>\n",
              "<table border=\"1\" class=\"dataframe\">\n",
              "  <thead>\n",
              "    <tr style=\"text-align: right;\">\n",
              "      <th></th>\n",
              "      <th>review</th>\n",
              "      <th>target</th>\n",
              "      <th>unexpected</th>\n",
              "    </tr>\n",
              "  </thead>\n",
              "  <tbody>\n",
              "    <tr>\n",
              "      <th>count</th>\n",
              "      <td>20227</td>\n",
              "      <td>20228</td>\n",
              "      <td>7</td>\n",
              "    </tr>\n",
              "    <tr>\n",
              "      <th>unique</th>\n",
              "      <td>19663</td>\n",
              "      <td>4</td>\n",
              "      <td>6</td>\n",
              "    </tr>\n",
              "    <tr>\n",
              "      <th>top</th>\n",
              "      <td>Good</td>\n",
              "      <td>Neutral</td>\n",
              "      <td>till here</td>\n",
              "    </tr>\n",
              "    <tr>\n",
              "      <th>freq</th>\n",
              "      <td>23</td>\n",
              "      <td>8929</td>\n",
              "      <td>2</td>\n",
              "    </tr>\n",
              "  </tbody>\n",
              "</table>\n",
              "</div>"
            ],
            "text/plain": [
              "       review   target unexpected\n",
              "count   20227    20228          7\n",
              "unique  19663        4          6\n",
              "top      Good  Neutral  till here\n",
              "freq       23     8929          2"
            ]
          },
          "metadata": {
            "tags": []
          },
          "execution_count": 6
        }
      ]
    },
    {
      "cell_type": "code",
      "metadata": {
        "id": "TGhGQeE79Iro",
        "colab_type": "code",
        "outputId": "4a533ea6-8964-4792-f82a-ccb54b602889",
        "colab": {
          "base_uri": "https://localhost:8080/",
          "height": 136
        }
      },
      "source": [
        "original_data['unexpected'].value_counts()"
      ],
      "execution_count": 7,
      "outputs": [
        {
          "output_type": "execute_result",
          "data": {
            "text/plain": [
              "till here           2\n",
              "------              1\n",
              "9090                1\n",
              "----------          1\n",
              "-------             1\n",
              "----------------    1\n",
              "Name: unexpected, dtype: int64"
            ]
          },
          "metadata": {
            "tags": []
          },
          "execution_count": 7
        }
      ]
    },
    {
      "cell_type": "markdown",
      "metadata": {
        "id": "ReOgJzTNAZTg",
        "colab_type": "text"
      },
      "source": [
        "I´m going to go ahead and drop the extra column."
      ]
    },
    {
      "cell_type": "code",
      "metadata": {
        "id": "aNE-VsibAhRO",
        "colab_type": "code",
        "colab": {}
      },
      "source": [
        "original_data.drop('unexpected', axis=1, inplace=True)"
      ],
      "execution_count": 0,
      "outputs": []
    },
    {
      "cell_type": "code",
      "metadata": {
        "id": "DtDvYoCDA9yP",
        "colab_type": "code",
        "outputId": "72c96143-9a53-44a6-e81e-aa6041bd5279",
        "colab": {
          "base_uri": "https://localhost:8080/",
          "height": 102
        }
      },
      "source": [
        "original_data['target'].value_counts()"
      ],
      "execution_count": 9,
      "outputs": [
        {
          "output_type": "execute_result",
          "data": {
            "text/plain": [
              "Neutral     8929\n",
              "Positive    6012\n",
              "Negative    5286\n",
              "Neative        1\n",
              "Name: target, dtype: int64"
            ]
          },
          "metadata": {
            "tags": []
          },
          "execution_count": 9
        }
      ]
    },
    {
      "cell_type": "markdown",
      "metadata": {
        "id": "qSEInIfqB-SS",
        "colab_type": "text"
      },
      "source": [
        "We also have an unexpected value in our labels. We will have to account for that in the pipeline as well. I´m going to drop it, because I can´t automate for every spelling error in the labels."
      ]
    },
    {
      "cell_type": "code",
      "metadata": {
        "id": "34gKxbopCeYj",
        "colab_type": "code",
        "outputId": "e434dfc7-c7ae-4a83-a977-c366e12a326b",
        "colab": {
          "base_uri": "https://localhost:8080/",
          "height": 85
        }
      },
      "source": [
        "correct_labels = ['Positive', 'Negative', 'Neutral']\n",
        "original_data = original_data[original_data.target.isin(correct_labels)]\n",
        "original_data['target'].value_counts()"
      ],
      "execution_count": 10,
      "outputs": [
        {
          "output_type": "execute_result",
          "data": {
            "text/plain": [
              "Neutral     8929\n",
              "Positive    6012\n",
              "Negative    5286\n",
              "Name: target, dtype: int64"
            ]
          },
          "metadata": {
            "tags": []
          },
          "execution_count": 10
        }
      ]
    },
    {
      "cell_type": "code",
      "metadata": {
        "id": "a0CRH9djEuX1",
        "colab_type": "code",
        "outputId": "b7bfe47a-b540-4242-ecae-75531bd4bcb5",
        "colab": {
          "base_uri": "https://localhost:8080/",
          "height": 68
        }
      },
      "source": [
        "original_data.isnull().sum()"
      ],
      "execution_count": 11,
      "outputs": [
        {
          "output_type": "execute_result",
          "data": {
            "text/plain": [
              "review    1\n",
              "target    0\n",
              "dtype: int64"
            ]
          },
          "metadata": {
            "tags": []
          },
          "execution_count": 11
        }
      ]
    },
    {
      "cell_type": "code",
      "metadata": {
        "id": "msdr9pGqhsQa",
        "colab_type": "code",
        "colab": {}
      },
      "source": [
        "original_data.dropna(inplace=True)"
      ],
      "execution_count": 0,
      "outputs": []
    },
    {
      "cell_type": "markdown",
      "metadata": {
        "id": "u0N8H9HSElHv",
        "colab_type": "text"
      },
      "source": [
        "There is one null review\n",
        "\n"
      ]
    },
    {
      "cell_type": "markdown",
      "metadata": {
        "id": "fBfTm31fHx3W",
        "colab_type": "text"
      },
      "source": [
        ""
      ]
    },
    {
      "cell_type": "markdown",
      "metadata": {
        "id": "4c3R4fvhG4Mq",
        "colab_type": "text"
      },
      "source": [
        "## Duplicate Rows Check"
      ]
    },
    {
      "cell_type": "code",
      "metadata": {
        "id": "J1sj7uQJG_0_",
        "colab_type": "code",
        "colab": {
          "base_uri": "https://localhost:8080/",
          "height": 255
        },
        "outputId": "2a6f3e68-222d-4964-a7ab-d5c6569c608d"
      },
      "source": [
        "print(original_data[original_data.duplicated(keep='first')])"
      ],
      "execution_count": 13,
      "outputs": [
        {
          "output_type": "stream",
          "text": [
            "                                                  review    target\n",
            "19                                          jee ye to he  Positive\n",
            "411                                             Hahahaha  Positive\n",
            "585      Kabhi aap dusro k lye Dil se dua mang kr dekho   Positive\n",
            "596    Karachi K Badalte Hue Halaat Or Nit Nayi Faida...  Positive\n",
            "602    Aaj Bhi Shehar Me Target Killing Ka Koi Waqia ...  Positive\n",
            "...                                                  ...       ...\n",
            "17581  Or agr ye jhota wada howa to pti waly khud is ...  Negative\n",
            "18207                              Conse colr may chaiye   Neutral\n",
            "18354  Dhoka ha ye site plx mat Len ink products frau...  Negative\n",
            "18363  Dhoka ha ye site plx mat Len ink products frau...  Negative\n",
            "19543                                           Kia huwa   Neutral\n",
            "\n",
            "[543 rows x 2 columns]\n"
          ],
          "name": "stdout"
        }
      ]
    },
    {
      "cell_type": "markdown",
      "metadata": {
        "id": "YBKySxG0J3Fg",
        "colab_type": "text"
      },
      "source": [
        "I'm going to drop those duplicates."
      ]
    },
    {
      "cell_type": "code",
      "metadata": {
        "id": "Lv-EJegMJ7hA",
        "colab_type": "code",
        "colab": {}
      },
      "source": [
        "original_data.drop_duplicates(keep='first', inplace = True)"
      ],
      "execution_count": 0,
      "outputs": []
    },
    {
      "cell_type": "markdown",
      "metadata": {
        "id": "DoQSlwgrXK5G",
        "colab_type": "text"
      },
      "source": [
        "### TF-IDF"
      ]
    },
    {
      "cell_type": "code",
      "metadata": {
        "id": "EZwa4mEtXQ33",
        "colab_type": "code",
        "colab": {}
      },
      "source": [
        "phrases = original_data[phrase_col].tolist()\n",
        "phrase_labels = original_data[target_col].tolist()"
      ],
      "execution_count": 0,
      "outputs": []
    },
    {
      "cell_type": "markdown",
      "metadata": {
        "id": "Hdfb9VQIcJ8f",
        "colab_type": "text"
      },
      "source": [
        "Roman Urdu stopwords list from [GitHub](https://github.com/mirfan899/roman-urdu-stopwords/blob/master/stopwords.txt)."
      ]
    },
    {
      "cell_type": "code",
      "metadata": {
        "id": "bX9s9pWOb1y8",
        "colab_type": "code",
        "colab": {}
      },
      "source": [
        "roman_urdo_stop_words = ['ai', 'ayi', 'hy', 'hai', 'main', 'ki', 'tha', \n",
        "                         'koi', 'ko', 'sy', 'woh' , 'bhi', 'aur', 'wo',\n",
        "                         'yeh', 'rha', 'hota', 'ho', 'ga', 'ka', 'le',\n",
        "                         'lye' , 'kr', 'kar', 'lye', 'liye', 'hotay', 'waisay',\n",
        "                         'gya', 'gaya', 'kch', 'ab','thy', 'thay', 'houn',\n",
        "                         'hain', 'han', 'to', 'is', 'hi', 'jo', 'kya', 'thi',\n",
        "                         'se', 'pe', 'phr', 'wala', 'waisay', 'us', 'na',\n",
        "                         'ny', 'hun', 'rha', 'raha', 'ja', 'rahay', 'abi',\n",
        "                         'uski', 'ne', 'haan', 'acha', 'nai', 'sent', 'photo',\n",
        "                         'you', 'kafi', 'gai', 'rhy', 'kuch', 'jata', 'aye',\n",
        "                         'ya', 'dono', 'hoa', 'aese', 'de', 'wohi', 'jati',\n",
        "                         'jb', 'krta', 'lg', 'rahi', 'hui', 'karna', 'krna',\n",
        "                         'gi', 'hova', 'yehi', 'jana', 'jye', 'chal', 'mil',\n",
        "                         'tu', 'hum', 'par', 'hay', 'kis', 'sb', 'gy', 'dain',\n",
        "                         'krny', 'tou']"
      ],
      "execution_count": 0,
      "outputs": []
    },
    {
      "cell_type": "code",
      "metadata": {
        "id": "yA4JDVGuYLyJ",
        "colab_type": "code",
        "colab": {}
      },
      "source": [
        "tfidf_vectorizer = TfidfVectorizer(\n",
        "    min_df=5, max_features=16000, strip_accents='unicode',\n",
        "    analyzer='word', ngram_range=(1, 3), use_idf=True, \n",
        "    smooth_idf=True, sublinear_tf=True, stop_words=roman_urdo_stop_words)\n"
      ],
      "execution_count": 0,
      "outputs": []
    },
    {
      "cell_type": "code",
      "metadata": {
        "id": "nfJzDEd-gtEF",
        "colab_type": "code",
        "colab": {
          "base_uri": "https://localhost:8080/",
          "height": 238
        },
        "outputId": "4d2ac946-7c8a-4595-902c-55efa93b768f"
      },
      "source": [
        "tfidf_vectorizer.fit(phrases)"
      ],
      "execution_count": 18,
      "outputs": [
        {
          "output_type": "execute_result",
          "data": {
            "text/plain": [
              "TfidfVectorizer(analyzer='word', binary=False, decode_error='strict',\n",
              "                dtype=<class 'numpy.float64'>, encoding='utf-8',\n",
              "                input='content', lowercase=True, max_df=1.0, max_features=16000,\n",
              "                min_df=5, ngram_range=(1, 3), norm='l2', preprocessor=None,\n",
              "                smooth_idf=True,\n",
              "                stop_words=['ai', 'ayi', 'hy', 'hai', 'main', 'ki', 'tha',\n",
              "                            'koi', 'ko', 'sy', 'woh', 'bhi', 'aur', 'wo', 'yeh',\n",
              "                            'rha', 'hota', 'ho', 'ga', 'ka', 'le', 'lye', 'kr',\n",
              "                            'kar', 'lye', 'liye', 'hotay', 'waisay', 'gya',\n",
              "                            'gaya', ...],\n",
              "                strip_accents='unicode', sublinear_tf=True,\n",
              "                token_pattern='(?u)\\\\b\\\\w\\\\w+\\\\b', tokenizer=None, use_idf=True,\n",
              "                vocabulary=None)"
            ]
          },
          "metadata": {
            "tags": []
          },
          "execution_count": 18
        }
      ]
    },
    {
      "cell_type": "markdown",
      "metadata": {
        "id": "k9vUZ87DYtbZ",
        "colab_type": "text"
      },
      "source": [
        "## Data Exploration\n",
        "\n",
        "Let´s take a look at the label distribution in our dataset"
      ]
    },
    {
      "cell_type": "code",
      "metadata": {
        "id": "Ri1RqxKQYzze",
        "colab_type": "code",
        "outputId": "87b53d1c-5c9d-4e48-9b90-f156c7c9fdb6",
        "colab": {
          "base_uri": "https://localhost:8080/",
          "height": 339
        }
      },
      "source": [
        "sns.set_style('ticks')\n",
        "fig, ax = plt.subplots()\n",
        "fig.set_size_inches(10, 5)\n",
        "sns.countplot(y=original_data.target);"
      ],
      "execution_count": 19,
      "outputs": [
        {
          "output_type": "display_data",
          "data": {
            "image/png": "[encoded data removed]",
            "text/plain": [
              "<Figure size 720x360 with 1 Axes>"
            ]
          },
          "metadata": {
            "tags": []
          }
        }
      ]
    },
    {
      "cell_type": "markdown",
      "metadata": {
        "id": "ExBMB7osbHDf",
        "colab_type": "text"
      },
      "source": [
        "It looks like we have quite a few more neutral reviews than positive and negative. The positive and negative counts are close enough.\n",
        "\n",
        "One of the ***requirements*** of the work sample is to document how data limitations impact the result, and what I might do on a larger project.\n",
        "\n",
        "When the class distribution is unbalanced, the model favors predicting the most frequent class. Accuracy can be a poor choice of evaluation metric for a classifier if the data is unbalanced as well.\n",
        "\n",
        "On a larger project, I might consider a technique such as GAN minority oversampling to balance out the dataset.\n",
        "\n",
        "The simplest way to fix imbalanced dataset is simply balancing them by oversampling instances of the minority class or undersampling instances of the majority class. That is what I will choose to do in this case.\n",
        "\n"
      ]
    },
    {
      "cell_type": "code",
      "metadata": {
        "id": "N-rvd8hHq-mO",
        "colab_type": "code",
        "colab": {}
      },
      "source": [
        ""
      ],
      "execution_count": 0,
      "outputs": []
    }
  ]
}